{
  "nbformat": 4,
  "nbformat_minor": 0,
  "metadata": {
    "colab": {
      "name": "Practice1_R.ipynb",
      "provenance": [],
      "authorship_tag": "ABX9TyNPkNAMCw4HuwtVoc5J6Fam",
      "include_colab_link": true
    },
    "kernelspec": {
      "name": "ir",
      "display_name": "R"
    },
    "language_info": {
      "name": "R"
    }
  },
  "cells": [
    {
      "cell_type": "markdown",
      "metadata": {
        "id": "view-in-github",
        "colab_type": "text"
      },
      "source": [
        "<a href=\"https://colab.research.google.com/github/GroverAruquipa/Works_Aprendizaje_estadistico_UBA/blob/main/Practice1_R.ipynb\" target=\"_parent\"><img src=\"https://colab.research.google.com/assets/colab-badge.svg\" alt=\"Open In Colab\"/></a>"
      ]
    },
    {
      "cell_type": "code",
      "metadata": {
        "colab": {
          "base_uri": "https://localhost:8080/"
        },
        "id": "LzTEQt78Uyf9",
        "outputId": "4cf74787-156d-4e5f-8f29-c8699cf12d69"
      },
      "source": [
        "install.packages(\"googledrive\")\n",
        "library(\"googledrive\")"
      ],
      "execution_count": 2,
      "outputs": [
        {
          "output_type": "stream",
          "text": [
            "Installing package into ‘/usr/local/lib/R/site-library’\n",
            "(as ‘lib’ is unspecified)\n",
            "\n"
          ],
          "name": "stderr"
        }
      ]
    },
    {
      "cell_type": "code",
      "metadata": {
        "colab": {
          "base_uri": "https://localhost:8080/"
        },
        "id": "ctq-gWT6VMch",
        "outputId": "05988133-345f-491f-a632-d4303f2cdd8c"
      },
      "source": [
        "a <- 42\n",
        "A <- a * 2  # R is case sensitive\n",
        "print(a)\n",
        "cat(A, \"\\n\") # \"84\" is concatenated with \"\\n\"\n",
        "if(A>a) # true, 84 > 42\n",
        "{\n",
        "  cat(A, \">\", a, \"\\n\")\n",
        "} "
      ],
      "execution_count": 6,
      "outputs": [
        {
          "output_type": "stream",
          "text": [
            "[1] 42\n",
            "84 \n",
            "84 > 42 \n"
          ],
          "name": "stdout"
        }
      ]
    },
    {
      "cell_type": "code",
      "metadata": {
        "id": "gIez6DvzVMhR"
      },
      "source": [
        ""
      ],
      "execution_count": null,
      "outputs": []
    },
    {
      "cell_type": "code",
      "metadata": {
        "id": "BLpCt0VKVMlo"
      },
      "source": [
        ""
      ],
      "execution_count": null,
      "outputs": []
    }
  ]
}