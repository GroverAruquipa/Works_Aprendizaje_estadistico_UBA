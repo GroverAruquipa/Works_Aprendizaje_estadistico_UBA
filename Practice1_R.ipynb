{
  "nbformat": 4,
  "nbformat_minor": 0,
  "metadata": {
    "colab": {
      "name": "Practice1_R.ipynb",
      "provenance": [],
      "toc_visible": true,
      "authorship_tag": "ABX9TyPw02R0u7dsjXgCpwm3EjQQ",
      "include_colab_link": true
    },
    "kernelspec": {
      "name": "ir",
      "display_name": "R"
    },
    "language_info": {
      "name": "R"
    }
  },
  "cells": [
    {
      "cell_type": "markdown",
      "metadata": {
        "id": "view-in-github",
        "colab_type": "text"
      },
      "source": [
        "<a href=\"https://colab.research.google.com/github/GroverAruquipa/Works_Aprendizaje_estadistico_UBA/blob/main/Practice1_R.ipynb\" target=\"_parent\"><img src=\"https://colab.research.google.com/assets/colab-badge.svg\" alt=\"Open In Colab\"/></a>"
      ]
    },
    {
      "cell_type": "code",
      "metadata": {
        "id": "LzTEQt78Uyf9"
      },
      "source": [
        ""
      ],
      "execution_count": 53,
      "outputs": []
    },
    {
      "cell_type": "markdown",
      "metadata": {
        "id": "8IVrHZFIpc9U"
      },
      "source": [
        "LInks:https://rpubs.com/Rortizdu/140148\n",
        "https://www.statmethods.net/stats/rdiagnostics.html\n",
        "https://rpubs.com/Joaquin_AR/226291\n",
        "https://advstats.psychstat.org/book/mregression/index.php\n",
        "https://bookdown.org/ripberjt/labbook/multivariable-linear-regression.html\n",
        "\n"
      ]
    },
    {
      "cell_type": "markdown",
      "metadata": {
        "id": "BaD3V5WQYWnH"
      },
      "source": [
        "**Practica_1**"
      ]
    },
    {
      "cell_type": "code",
      "metadata": {
        "id": "pAYzXk7WYU_w",
        "colab": {
          "base_uri": "https://localhost:8080/"
        },
        "outputId": "8ad36f91-9d31-401f-f11b-dcd08849f52c"
      },
      "source": [
        "install.packages(\"googledrive\")\n",
        "\n",
        "install.packages(\"Hmisc\")\n",
        "\n",
        "\n",
        "install.packages(\"corrplot\")\n",
        "install.packages(\"data.table\")    \n",
        "install.packages(\"GGally\")     \n",
        "install.packages(\"gridExtra\")                                  # Install data.table\n",
        "install.packages(\"car\")  \n"
      ],
      "execution_count": 54,
      "outputs": [
        {
          "output_type": "stream",
          "text": [
            "Installing package into ‘/usr/local/lib/R/site-library’\n",
            "(as ‘lib’ is unspecified)\n",
            "\n",
            "Installing package into ‘/usr/local/lib/R/site-library’\n",
            "(as ‘lib’ is unspecified)\n",
            "\n",
            "Installing package into ‘/usr/local/lib/R/site-library’\n",
            "(as ‘lib’ is unspecified)\n",
            "\n",
            "Installing package into ‘/usr/local/lib/R/site-library’\n",
            "(as ‘lib’ is unspecified)\n",
            "\n",
            "Installing package into ‘/usr/local/lib/R/site-library’\n",
            "(as ‘lib’ is unspecified)\n",
            "\n",
            "Installing package into ‘/usr/local/lib/R/site-library’\n",
            "(as ‘lib’ is unspecified)\n",
            "\n",
            "Installing package into ‘/usr/local/lib/R/site-library’\n",
            "(as ‘lib’ is unspecified)\n",
            "\n"
          ],
          "name": "stderr"
        }
      ]
    },
    {
      "cell_type": "code",
      "metadata": {
        "id": "DiKKJb4_sGqE"
      },
      "source": [
        "library(\"googledrive\")                            # Install data.table\n",
        "library(\"Hmisc\")\n",
        "\n",
        "library(\"data.table\")\n",
        "library(corrplot)\n",
        "library(ggplot2)\n",
        "library(tidyverse)\n",
        "library(broom)\n",
        "library(GGally)"
      ],
      "execution_count": 55,
      "outputs": []
    },
    {
      "cell_type": "code",
      "metadata": {
        "colab": {
          "base_uri": "https://localhost:8080/"
        },
        "id": "j7Oa7ziqQFAX",
        "outputId": "99131ea3-df91-4408-9507-7e8e5ebc9f2c"
      },
      "source": [
        "install.packages(\"devtools\")\n",
        "install.packages(\"predict3d\")\n",
        "require(predict3d)\n",
        "require(rgl)\n"
      ],
      "execution_count": 56,
      "outputs": [
        {
          "output_type": "stream",
          "text": [
            "Installing package into ‘/usr/local/lib/R/site-library’\n",
            "(as ‘lib’ is unspecified)\n",
            "\n",
            "Installing package into ‘/usr/local/lib/R/site-library’\n",
            "(as ‘lib’ is unspecified)\n",
            "\n",
            "also installing the dependencies ‘gdtools’, ‘flextable’, ‘ztable’, ‘moonBook’\n",
            "\n",
            "\n",
            "Warning message in install.packages(\"predict3d\"):\n",
            "“installation of package ‘gdtools’ had non-zero exit status”\n",
            "Warning message in install.packages(\"predict3d\"):\n",
            "“installation of package ‘flextable’ had non-zero exit status”\n",
            "Warning message in install.packages(\"predict3d\"):\n",
            "“installation of package ‘ztable’ had non-zero exit status”\n",
            "Warning message in install.packages(\"predict3d\"):\n",
            "“installation of package ‘moonBook’ had non-zero exit status”\n",
            "Warning message in install.packages(\"predict3d\"):\n",
            "“installation of package ‘predict3d’ had non-zero exit status”\n",
            "Loading required package: predict3d\n",
            "\n",
            "Warning message in library(package, lib.loc = lib.loc, character.only = TRUE, logical.return = TRUE, :\n",
            "“there is no package called ‘predict3d’”\n"
          ],
          "name": "stderr"
        }
      ]
    },
    {
      "cell_type": "markdown",
      "metadata": {
        "id": "GiSEidIssImo"
      },
      "source": [
        "\n",
        "# 1.- Calcular la matriz de correlacion"
      ]
    },
    {
      "cell_type": "code",
      "metadata": {
        "id": "ulA7y9o5sGvI"
      },
      "source": [
        "\n",
        "mydata = read.csv(\"cemento.csv\", header = TRUE, fileEncoding=\"latin1\")\n",
        "mydata <- fread(\"cemento.csv\",  # Import columns\n",
        "                      select = c(\"x1\", \"x2\",\"x3\", \"x4\",\"x5\",\"y\"))\n",
        "\n",
        "mydata.cor = cor(mydata)"
      ],
      "execution_count": 57,
      "outputs": []
    },
    {
      "cell_type": "code",
      "metadata": {
        "colab": {
          "base_uri": "https://localhost:8080/",
          "height": 340
        },
        "id": "19mLkqiBsmSE",
        "outputId": "1c22b29c-3ff2-4b6e-a9df-b81e33b72443"
      },
      "source": [
        "mydata.rcorr = rcorr(as.matrix(mydata))\n",
        "mydata.rcorr"
      ],
      "execution_count": 58,
      "outputs": [
        {
          "output_type": "display_data",
          "data": {
            "text/plain": [
              "      x1    x2    x3    x4    x5     y\n",
              "x1  1.00 -0.84 -0.24  0.14 -0.35 -0.64\n",
              "x2 -0.84  1.00  0.33 -0.34  0.34  0.76\n",
              "x3 -0.24  0.33  1.00 -0.98  0.21  0.85\n",
              "x4  0.14 -0.34 -0.98  1.00 -0.22 -0.83\n",
              "x5 -0.35  0.34  0.21 -0.22  1.00  0.33\n",
              "y  -0.64  0.76  0.85 -0.83  0.33  1.00\n",
              "\n",
              "n= 14 \n",
              "\n",
              "\n",
              "P\n",
              "   x1     x2     x3     x4     x5     y     \n",
              "x1        0.0002 0.3995 0.6210 0.2176 0.0129\n",
              "x2 0.0002        0.2444 0.2306 0.2313 0.0014\n",
              "x3 0.3995 0.2444        0.0000 0.4636 0.0001\n",
              "x4 0.6210 0.2306 0.0000        0.4439 0.0002\n",
              "x5 0.2176 0.2313 0.4636 0.4439        0.2533\n",
              "y  0.0129 0.0014 0.0001 0.0002 0.2533       "
            ]
          },
          "metadata": {
            "tags": []
          }
        }
      ]
    },
    {
      "cell_type": "code",
      "metadata": {
        "colab": {
          "base_uri": "https://localhost:8080/",
          "height": 437
        },
        "id": "TSE0KfbCsma7",
        "outputId": "17868177-258d-4606-dfd6-8ba5262b5a1f"
      },
      "source": [
        "corrplot(mydata.cor)"
      ],
      "execution_count": 59,
      "outputs": [
        {
          "output_type": "display_data",
          "data": {
            "image/png": "[encoded data removed]",
            "text/plain": [
              "Plot with title “”"
            ]
          },
          "metadata": {
            "tags": [],
            "image/png": {
              "width": 420,
              "height": 420
            }
          }
        }
      ]
    },
    {
      "cell_type": "code",
      "metadata": {
        "colab": {
          "base_uri": "https://localhost:8080/",
          "height": 641
        },
        "id": "WdIiTZYihs12",
        "outputId": "3541b1bc-a2f0-4b95-98fa-1cfd5881d10b"
      },
      "source": [
        "library(GGally)\n",
        "ggpairs(mydata, lower = list(continuous = \"smooth\"),\n",
        "        diag = list(continuous = \"barDiag\"), axisLabels = \"none\")"
      ],
      "execution_count": 60,
      "outputs": [
        {
          "output_type": "stream",
          "text": [
            "`stat_bin()` using `bins = 30`. Pick better value with `binwidth`.\n",
            "\n",
            "`stat_bin()` using `bins = 30`. Pick better value with `binwidth`.\n",
            "\n",
            "`stat_bin()` using `bins = 30`. Pick better value with `binwidth`.\n",
            "\n",
            "`stat_bin()` using `bins = 30`. Pick better value with `binwidth`.\n",
            "\n",
            "`stat_bin()` using `bins = 30`. Pick better value with `binwidth`.\n",
            "\n",
            "`stat_bin()` using `bins = 30`. Pick better value with `binwidth`.\n",
            "\n"
          ],
          "name": "stderr"
        },
        {
          "output_type": "display_data",
          "data": {
            "image/png": "[encoded data removed]",
            "text/plain": [
              "plot without title"
            ]
          },
          "metadata": {
            "tags": [],
            "image/png": {
              "width": 420,
              "height": 420
            }
          }
        }
      ]
    },
    {
      "cell_type": "code",
      "metadata": {
        "id": "l29QbP_SlDU-"
      },
      "source": [
        ""
      ],
      "execution_count": 61,
      "outputs": []
    },
    {
      "cell_type": "markdown",
      "metadata": {
        "id": "OUrpejhulEbb"
      },
      "source": [
        "De la matriz de correlacion se puede indicar que:\n",
        "Las variables con mayor correlacion respecto a **Y** es *x4* con 0.832 y *x3* con 0.851.\n",
        "De igual froma las variables *x3* y *x4* tiene una alta correlacion de 0.978 lo que indica que puede ser simplificado en una sola en un futuro."
      ]
    },
    {
      "cell_type": "markdown",
      "metadata": {
        "id": "P_opELvOtM-P"
      },
      "source": [
        "\n",
        "# 2.- Multiple linear regression"
      ]
    },
    {
      "cell_type": "code",
      "metadata": {
        "id": "XrJeSoZmLnzW"
      },
      "source": [
        "library(tidyverse)"
      ],
      "execution_count": 62,
      "outputs": []
    },
    {
      "cell_type": "code",
      "metadata": {
        "id": "7biAy5ettMj1",
        "colab": {
          "base_uri": "https://localhost:8080/",
          "height": 357
        },
        "outputId": "5e05b5cf-b813-46ac-e002-984b8c9d8e9e"
      },
      "source": [
        "modelo <- lm(y ~ x1 + x2 + x3+x4+x5, data=mydata)\n",
        "#modelo <- lm(formula= y ~ x1 + x2 + x3+x4+x5, mydata)\n",
        "\n",
        "summary(modelo)"
      ],
      "execution_count": 66,
      "outputs": [
        {
          "output_type": "display_data",
          "data": {
            "text/plain": [
              "\n",
              "Call:\n",
              "lm(formula = y ~ x1 + x2 + x3 + x4 + x5, data = mydata)\n",
              "\n",
              "Residuals:\n",
              "     Min       1Q   Median       3Q      Max \n",
              "-2.58166 -2.17473 -0.05122  1.84522  3.11955 \n",
              "\n",
              "Coefficients:\n",
              "            Estimate Std. Error t value Pr(>|t|)\n",
              "(Intercept)  73.6101   105.9653   0.695    0.507\n",
              "x1           -0.4497     1.1312  -0.398    0.701\n",
              "x2            1.2995     1.0660   1.219    0.258\n",
              "x3            0.5630     1.0587   0.532    0.609\n",
              "x4           -0.1704     1.0494  -0.162    0.875\n",
              "x5           -0.3859     1.5221  -0.254    0.806\n",
              "\n",
              "Residual standard error: 2.7 on 8 degrees of freedom\n",
              "Multiple R-squared:  0.9871,\tAdjusted R-squared:  0.979 \n",
              "F-statistic: 122.2 on 5 and 8 DF,  p-value: 2.48e-07\n"
            ]
          },
          "metadata": {
            "tags": []
          }
        }
      ]
    },
    {
      "cell_type": "markdown",
      "metadata": {
        "id": "M_NWHtBSu3dC"
      },
      "source": [
        "\n",
        "\n"
      ]
    },
    {
      "cell_type": "code",
      "metadata": {
        "id": "Ok4xXOHFu9kS"
      },
      "source": [
        ""
      ],
      "execution_count": null,
      "outputs": []
    },
    {
      "cell_type": "markdown",
      "metadata": {
        "id": "jeffHsUxZROb"
      },
      "source": [
        "**TEST DE SIGNIFICANCIA a partir del p value**"
      ]
    },
    {
      "cell_type": "markdown",
      "metadata": {
        "id": "Jnv0jjsmwGyR"
      },
      "source": [
        "*Test hypotesis B0*"
      ]
    },
    {
      "cell_type": "code",
      "metadata": {
        "colab": {
          "base_uri": "https://localhost:8080/",
          "height": 136
        },
        "id": "BFvJTVZtZRux",
        "outputId": "67c6994e-11dd-41cd-e564-37bca2f7398f"
      },
      "source": [
        "N=14\n",
        "beduc<-coef(modelo)[\"(Intercept)\"]\n",
        "beduc\n",
        "# Desviación estándar del coeficiente\n",
        "mvc <- vcov(modelo)\n",
        "dsbeta1<-sqrt(mvc[2,2])\n",
        "dsbeta1\n",
        "# t calculado\n",
        "tc<-beduc/dsbeta1\n",
        "tc\n",
        "# T tabla\n",
        "glb <- N-length(coef(modelo))\n",
        "alpha<-0.05\n",
        "tt <- qt(1-alpha/2, glb)\n",
        " #Se rechaza la hipótesis nula si: abs(tc)>abs(tt)\n",
        "paste(\"Rechazamos H0?\", abs(tc)>abs(tt))\n",
        "p.valor <- 2*(1-pt(abs(tc), glb))\n",
        "p.valor ## VALOR PARA RECHAZAR O ACEPTAR LA HYPOTHESIS DE 5%\n",
        "tc\n",
        "tt"
      ],
      "execution_count": 97,
      "outputs": [
        {
          "output_type": "display_data",
          "data": {
            "text/plain": [
              "(Intercept) \n",
              "   73.61009 "
            ],
            "text/latex": "\\textbf{(Intercept):} 73.6100891774241",
            "text/markdown": "**(Intercept):** 73.6100891774241",
            "text/html": [
              "<strong>(Intercept):</strong> 73.6100891774241"
            ]
          },
          "metadata": {
            "tags": []
          }
        },
        {
          "output_type": "display_data",
          "data": {
            "text/plain": [
              "[1] 1.131229"
            ],
            "text/latex": "1.13122869631611",
            "text/markdown": "1.13122869631611",
            "text/html": [
              "1.13122869631611"
            ]
          },
          "metadata": {
            "tags": []
          }
        },
        {
          "output_type": "display_data",
          "data": {
            "text/plain": [
              "(Intercept) \n",
              "   65.07092 "
            ],
            "text/latex": "\\textbf{(Intercept):} 65.0709175051322",
            "text/markdown": "**(Intercept):** 65.0709175051322",
            "text/html": [
              "<strong>(Intercept):</strong> 65.0709175051322"
            ]
          },
          "metadata": {
            "tags": []
          }
        },
        {
          "output_type": "display_data",
          "data": {
            "text/plain": [
              "[1] \"Rechazamos H0? TRUE\""
            ],
            "text/latex": "'Rechazamos H0? TRUE'",
            "text/markdown": "'Rechazamos H0? TRUE'",
            "text/html": [
              "'Rechazamos H0? TRUE'"
            ]
          },
          "metadata": {
            "tags": []
          }
        },
        {
          "output_type": "display_data",
          "data": {
            "text/plain": [
              " (Intercept) \n",
              "3.460787e-12 "
            ],
            "text/latex": "\\textbf{(Intercept):} 3.46078721236154e-12",
            "text/markdown": "**(Intercept):** 3.46078721236154e-12",
            "text/html": [
              "<strong>(Intercept):</strong> 3.46078721236154e-12"
            ]
          },
          "metadata": {
            "tags": []
          }
        },
        {
          "output_type": "display_data",
          "data": {
            "text/plain": [
              "(Intercept) \n",
              "   65.07092 "
            ],
            "text/latex": "\\textbf{(Intercept):} 65.0709175051322",
            "text/markdown": "**(Intercept):** 65.0709175051322",
            "text/html": [
              "<strong>(Intercept):</strong> 65.0709175051322"
            ]
          },
          "metadata": {
            "tags": []
          }
        },
        {
          "output_type": "display_data",
          "data": {
            "text/plain": [
              "[1] 2.306004"
            ],
            "text/latex": "2.30600413520417",
            "text/markdown": "2.30600413520417",
            "text/html": [
              "2.30600413520417"
            ]
          },
          "metadata": {
            "tags": []
          }
        }
      ]
    },
    {
      "cell_type": "code",
      "metadata": {
        "colab": {
          "base_uri": "https://localhost:8080/",
          "height": 34
        },
        "id": "V0cFP9VUwVnR",
        "outputId": "e20c0a56-9ed1-49d5-d58e-57a43e8db57f"
      },
      "source": [
        "p.valor <- 2*(1-pt(abs(tc), glb))\n",
        "p.valor ## VALOR PARA RECHAZAR O ACEPTAR LA HYPOTHESIS DE 5%"
      ],
      "execution_count": 98,
      "outputs": [
        {
          "output_type": "display_data",
          "data": {
            "text/plain": [
              " (Intercept) \n",
              "3.460787e-12 "
            ],
            "text/latex": "\\textbf{(Intercept):} 3.46078721236154e-12",
            "text/markdown": "**(Intercept):** 3.46078721236154e-12",
            "text/html": [
              "<strong>(Intercept):</strong> 3.46078721236154e-12"
            ]
          },
          "metadata": {
            "tags": []
          }
        }
      ]
    },
    {
      "cell_type": "markdown",
      "metadata": {
        "id": "tuS4CX2VwiQu"
      },
      "source": [
        "*Test hypotesis B1*"
      ]
    },
    {
      "cell_type": "code",
      "metadata": {
        "colab": {
          "base_uri": "https://localhost:8080/",
          "height": 136
        },
        "id": "j_10-ywFwts_",
        "outputId": "991e350b-4e08-4af1-e8cd-2c1541fc86de"
      },
      "source": [
        "N=14\n",
        "beduc<-coef(modelo)[\"x1\"]\n",
        "beduc\n",
        "# Desviación estándar del coeficiente\n",
        "mvc <- vcov(modelo)\n",
        "dsbeta1<-sqrt(mvc[2,2])\n",
        "dsbeta1\n",
        "# t calculado\n",
        "tc<-beduc/dsbeta1\n",
        "tc\n",
        "# T tabla\n",
        "glb <- N-length(coef(modelo))\n",
        "alpha<-0.05\n",
        "tt <- qt(1-alpha/2, glb)\n",
        " #Se rechaza la hipótesis nula si: abs(tc)>abs(tt)\n",
        "paste(\"Rechazamos H0?\", abs(tc)>abs(tt))\n",
        "tc\n",
        "tt\n",
        "p.valor <- 2*(1-pt(abs(tc), glb))\n",
        "p.valor ## VALOR PARA RECHAZAR O ACEPTAR LA HYPOTHESIS DE 5%\n"
      ],
      "execution_count": 99,
      "outputs": [
        {
          "output_type": "display_data",
          "data": {
            "text/plain": [
              "        x1 \n",
              "-0.4497298 "
            ],
            "text/latex": "\\textbf{x1:} -0.449729783300339",
            "text/markdown": "**x1:** -0.449729783300339",
            "text/html": [
              "<strong>x1:</strong> -0.449729783300339"
            ]
          },
          "metadata": {
            "tags": []
          }
        },
        {
          "output_type": "display_data",
          "data": {
            "text/plain": [
              "[1] 1.131229"
            ],
            "text/latex": "1.13122869631611",
            "text/markdown": "1.13122869631611",
            "text/html": [
              "1.13122869631611"
            ]
          },
          "metadata": {
            "tags": []
          }
        },
        {
          "output_type": "display_data",
          "data": {
            "text/plain": [
              "        x1 \n",
              "-0.3975587 "
            ],
            "text/latex": "\\textbf{x1:} -0.397558676477091",
            "text/markdown": "**x1:** -0.397558676477091",
            "text/html": [
              "<strong>x1:</strong> -0.397558676477091"
            ]
          },
          "metadata": {
            "tags": []
          }
        },
        {
          "output_type": "display_data",
          "data": {
            "text/plain": [
              "[1] \"Rechazamos H0? FALSE\""
            ],
            "text/latex": "'Rechazamos H0? FALSE'",
            "text/markdown": "'Rechazamos H0? FALSE'",
            "text/html": [
              "'Rechazamos H0? FALSE'"
            ]
          },
          "metadata": {
            "tags": []
          }
        },
        {
          "output_type": "display_data",
          "data": {
            "text/plain": [
              "        x1 \n",
              "-0.3975587 "
            ],
            "text/latex": "\\textbf{x1:} -0.397558676477091",
            "text/markdown": "**x1:** -0.397558676477091",
            "text/html": [
              "<strong>x1:</strong> -0.397558676477091"
            ]
          },
          "metadata": {
            "tags": []
          }
        },
        {
          "output_type": "display_data",
          "data": {
            "text/plain": [
              "[1] 2.306004"
            ],
            "text/latex": "2.30600413520417",
            "text/markdown": "2.30600413520417",
            "text/html": [
              "2.30600413520417"
            ]
          },
          "metadata": {
            "tags": []
          }
        },
        {
          "output_type": "display_data",
          "data": {
            "text/plain": [
              "       x1 \n",
              "0.7013526 "
            ],
            "text/latex": "\\textbf{x1:} 0.701352573738953",
            "text/markdown": "**x1:** 0.701352573738953",
            "text/html": [
              "<strong>x1:</strong> 0.701352573738953"
            ]
          },
          "metadata": {
            "tags": []
          }
        }
      ]
    },
    {
      "cell_type": "code",
      "metadata": {
        "colab": {
          "base_uri": "https://localhost:8080/",
          "height": 34
        },
        "id": "kki6Ic6Dy5Zq",
        "outputId": "46cd2a1a-e88b-4379-fee6-0d70eab6c741"
      },
      "source": [
        "p.valor <- 2*(1-pt(abs(tc), glb))\n",
        "p.valor ## VALOR PARA RECHAZAR O ACEPTAR LA HYPOTHESIS DE 5%"
      ],
      "execution_count": 100,
      "outputs": [
        {
          "output_type": "display_data",
          "data": {
            "text/plain": [
              "       x1 \n",
              "0.7013526 "
            ],
            "text/latex": "\\textbf{x1:} 0.701352573738953",
            "text/markdown": "**x1:** 0.701352573738953",
            "text/html": [
              "<strong>x1:</strong> 0.701352573738953"
            ]
          },
          "metadata": {
            "tags": []
          }
        }
      ]
    },
    {
      "cell_type": "markdown",
      "metadata": {
        "id": "-LCMslBZxfaC"
      },
      "source": [
        "*Test hypotesis B2*"
      ]
    },
    {
      "cell_type": "code",
      "metadata": {
        "colab": {
          "base_uri": "https://localhost:8080/",
          "height": 136
        },
        "id": "898n8VZcxeD2",
        "outputId": "c6d9580b-3bf3-4ecd-8dd4-230c49941238"
      },
      "source": [
        "N=14\n",
        "beduc<-coef(modelo)[\"x2\"]\n",
        "beduc\n",
        "# Desviación estándar del coeficiente\n",
        "mvc <- vcov(modelo)\n",
        "dsbeta1<-sqrt(mvc[2,2])\n",
        "dsbeta1\n",
        "# t calculado\n",
        "tc<-beduc/dsbeta1\n",
        "tc\n",
        "# T tabla\n",
        "glb <- N-length(coef(modelo))\n",
        "alpha<-0.05\n",
        "tt <- qt(1-alpha/2, glb)\n",
        " #Se rechaza la hipótesis nula si: abs(tc)>abs(tt)\n",
        "paste(\"Rechazamos H0?\", abs(tc)>abs(tt))\n",
        "tc\n",
        "tt\n",
        "p.valor <- 2*(1-pt(abs(tc), glb))\n",
        "p.valor ## VALOR PARA RECHAZAR O ACEPTAR LA HYPOTHESIS DE 5%\n"
      ],
      "execution_count": 93,
      "outputs": [
        {
          "output_type": "display_data",
          "data": {
            "text/plain": [
              "      x2 \n",
              "1.299514 "
            ],
            "text/latex": "\\textbf{x2:} 1.29951368006767",
            "text/markdown": "**x2:** 1.29951368006767",
            "text/html": [
              "<strong>x2:</strong> 1.29951368006767"
            ]
          },
          "metadata": {
            "tags": []
          }
        },
        {
          "output_type": "display_data",
          "data": {
            "text/plain": [
              "[1] 1.131229"
            ],
            "text/latex": "1.13122869631611",
            "text/markdown": "1.13122869631611",
            "text/html": [
              "1.13122869631611"
            ]
          },
          "metadata": {
            "tags": []
          }
        },
        {
          "output_type": "display_data",
          "data": {
            "text/plain": [
              "      x2 \n",
              "1.148763 "
            ],
            "text/latex": "\\textbf{x2:} 1.14876300813406",
            "text/markdown": "**x2:** 1.14876300813406",
            "text/html": [
              "<strong>x2:</strong> 1.14876300813406"
            ]
          },
          "metadata": {
            "tags": []
          }
        },
        {
          "output_type": "display_data",
          "data": {
            "text/plain": [
              "[1] \"Rechazamos H0? FALSE\""
            ],
            "text/latex": "'Rechazamos H0? FALSE'",
            "text/markdown": "'Rechazamos H0? FALSE'",
            "text/html": [
              "'Rechazamos H0? FALSE'"
            ]
          },
          "metadata": {
            "tags": []
          }
        },
        {
          "output_type": "display_data",
          "data": {
            "text/plain": [
              "      x2 \n",
              "1.148763 "
            ],
            "text/latex": "\\textbf{x2:} 1.14876300813406",
            "text/markdown": "**x2:** 1.14876300813406",
            "text/html": [
              "<strong>x2:</strong> 1.14876300813406"
            ]
          },
          "metadata": {
            "tags": []
          }
        },
        {
          "output_type": "display_data",
          "data": {
            "text/plain": [
              "[1] 2.306004"
            ],
            "text/latex": "2.30600413520417",
            "text/markdown": "2.30600413520417",
            "text/html": [
              "2.30600413520417"
            ]
          },
          "metadata": {
            "tags": []
          }
        },
        {
          "output_type": "display_data",
          "data": {
            "text/plain": [
              "       x2 \n",
              "0.2838393 "
            ],
            "text/latex": "\\textbf{x2:} 0.283839331812862",
            "text/markdown": "**x2:** 0.283839331812862",
            "text/html": [
              "<strong>x2:</strong> 0.283839331812862"
            ]
          },
          "metadata": {
            "tags": []
          }
        }
      ]
    },
    {
      "cell_type": "markdown",
      "metadata": {
        "id": "E6u0p6x-xweU"
      },
      "source": [
        "*Test hypotesis B3*"
      ]
    },
    {
      "cell_type": "code",
      "metadata": {
        "colab": {
          "base_uri": "https://localhost:8080/",
          "height": 136
        },
        "id": "YXEt-BZLxvVg",
        "outputId": "fe722580-aff4-451a-82c5-9db3c1abacba"
      },
      "source": [
        "N=14\n",
        "beduc<-coef(modelo)[\"x3\"]\n",
        "beduc\n",
        "# Desviación estándar del coeficiente\n",
        "mvc <- vcov(modelo)\n",
        "dsbeta1<-sqrt(mvc[2,2])\n",
        "dsbeta1\n",
        "# t calculado\n",
        "tc<-beduc/dsbeta1\n",
        "tc\n",
        "# T tabla\n",
        "glb <- N-length(coef(modelo))\n",
        "alpha<-0.05\n",
        "tt <- qt(1-alpha/2, glb)\n",
        " #Se rechaza la hipótesis nula si: abs(tc)>abs(tt)\n",
        "paste(\"Rechazamos H0?\", abs(tc)>abs(tt))\n",
        "tc\n",
        "tt\n",
        "p.valor <- 2*(1-pt(abs(tc), glb))\n",
        "p.valor ## VALOR PARA RECHAZAR O ACEPTAR LA HYPOTHESIS DE 5%\n"
      ],
      "execution_count": 94,
      "outputs": [
        {
          "output_type": "display_data",
          "data": {
            "text/plain": [
              "       x3 \n",
              "0.5630103 "
            ],
            "text/latex": "\\textbf{x3:} 0.563010334607333",
            "text/markdown": "**x3:** 0.563010334607333",
            "text/html": [
              "<strong>x3:</strong> 0.563010334607333"
            ]
          },
          "metadata": {
            "tags": []
          }
        },
        {
          "output_type": "display_data",
          "data": {
            "text/plain": [
              "[1] 1.131229"
            ],
            "text/latex": "1.13122869631611",
            "text/markdown": "1.13122869631611",
            "text/html": [
              "1.13122869631611"
            ]
          },
          "metadata": {
            "tags": []
          }
        },
        {
          "output_type": "display_data",
          "data": {
            "text/plain": [
              "       x3 \n",
              "0.4976981 "
            ],
            "text/latex": "\\textbf{x3:} 0.497698066218436",
            "text/markdown": "**x3:** 0.497698066218436",
            "text/html": [
              "<strong>x3:</strong> 0.497698066218436"
            ]
          },
          "metadata": {
            "tags": []
          }
        },
        {
          "output_type": "display_data",
          "data": {
            "text/plain": [
              "[1] \"Rechazamos H0? FALSE\""
            ],
            "text/latex": "'Rechazamos H0? FALSE'",
            "text/markdown": "'Rechazamos H0? FALSE'",
            "text/html": [
              "'Rechazamos H0? FALSE'"
            ]
          },
          "metadata": {
            "tags": []
          }
        },
        {
          "output_type": "display_data",
          "data": {
            "text/plain": [
              "       x3 \n",
              "0.4976981 "
            ],
            "text/latex": "\\textbf{x3:} 0.497698066218436",
            "text/markdown": "**x3:** 0.497698066218436",
            "text/html": [
              "<strong>x3:</strong> 0.497698066218436"
            ]
          },
          "metadata": {
            "tags": []
          }
        },
        {
          "output_type": "display_data",
          "data": {
            "text/plain": [
              "[1] 2.306004"
            ],
            "text/latex": "2.30600413520417",
            "text/markdown": "2.30600413520417",
            "text/html": [
              "2.30600413520417"
            ]
          },
          "metadata": {
            "tags": []
          }
        },
        {
          "output_type": "display_data",
          "data": {
            "text/plain": [
              "       x3 \n",
              "0.6320871 "
            ],
            "text/latex": "\\textbf{x3:} 0.632087141824522",
            "text/markdown": "**x3:** 0.632087141824522",
            "text/html": [
              "<strong>x3:</strong> 0.632087141824522"
            ]
          },
          "metadata": {
            "tags": []
          }
        }
      ]
    },
    {
      "cell_type": "markdown",
      "metadata": {
        "id": "qwJ43a3Bxymf"
      },
      "source": [
        "*Test hypotesis B4*"
      ]
    },
    {
      "cell_type": "code",
      "metadata": {
        "colab": {
          "base_uri": "https://localhost:8080/",
          "height": 136
        },
        "id": "B3vVycgyxeIz",
        "outputId": "70a1d8f3-3c95-42ab-a56c-2455d807692f"
      },
      "source": [
        "N=14\n",
        "beduc<-coef(modelo)[\"x4\"]\n",
        "beduc\n",
        "# Desviación estándar del coeficiente\n",
        "mvc <- vcov(modelo)\n",
        "dsbeta1<-sqrt(mvc[2,2])\n",
        "dsbeta1\n",
        "# t calculado\n",
        "tc<-beduc/dsbeta1\n",
        "tc\n",
        "# T tabla\n",
        "glb <- N-length(coef(modelo))\n",
        "alpha<-0.05\n",
        "tt <- qt(1-alpha/2, glb)\n",
        " #Se rechaza la hipótesis nula si: abs(tc)>abs(tt)\n",
        "paste(\"Rechazamos H0?\", abs(tc)>abs(tt))\n",
        "tc\n",
        "tt\n",
        "p.valor <- 2*(1-pt(abs(tc), glb))\n",
        "p.valor ## VALOR PARA RECHAZAR O ACEPTAR LA HYPOTHESIS DE 5%\n"
      ],
      "execution_count": 95,
      "outputs": [
        {
          "output_type": "display_data",
          "data": {
            "text/plain": [
              "        x4 \n",
              "-0.1703864 "
            ],
            "text/latex": "\\textbf{x4:} -0.170386379234596",
            "text/markdown": "**x4:** -0.170386379234596",
            "text/html": [
              "<strong>x4:</strong> -0.170386379234596"
            ]
          },
          "metadata": {
            "tags": []
          }
        },
        {
          "output_type": "display_data",
          "data": {
            "text/plain": [
              "[1] 1.131229"
            ],
            "text/latex": "1.13122869631611",
            "text/markdown": "1.13122869631611",
            "text/html": [
              "1.13122869631611"
            ]
          },
          "metadata": {
            "tags": []
          }
        },
        {
          "output_type": "display_data",
          "data": {
            "text/plain": [
              "        x4 \n",
              "-0.1506206 "
            ],
            "text/latex": "\\textbf{x4:} -0.150620630284102",
            "text/markdown": "**x4:** -0.150620630284102",
            "text/html": [
              "<strong>x4:</strong> -0.150620630284102"
            ]
          },
          "metadata": {
            "tags": []
          }
        },
        {
          "output_type": "display_data",
          "data": {
            "text/plain": [
              "[1] \"Rechazamos H0? FALSE\""
            ],
            "text/latex": "'Rechazamos H0? FALSE'",
            "text/markdown": "'Rechazamos H0? FALSE'",
            "text/html": [
              "'Rechazamos H0? FALSE'"
            ]
          },
          "metadata": {
            "tags": []
          }
        },
        {
          "output_type": "display_data",
          "data": {
            "text/plain": [
              "        x4 \n",
              "-0.1506206 "
            ],
            "text/latex": "\\textbf{x4:} -0.150620630284102",
            "text/markdown": "**x4:** -0.150620630284102",
            "text/html": [
              "<strong>x4:</strong> -0.150620630284102"
            ]
          },
          "metadata": {
            "tags": []
          }
        },
        {
          "output_type": "display_data",
          "data": {
            "text/plain": [
              "[1] 2.306004"
            ],
            "text/latex": "2.30600413520417",
            "text/markdown": "2.30600413520417",
            "text/html": [
              "2.30600413520417"
            ]
          },
          "metadata": {
            "tags": []
          }
        },
        {
          "output_type": "display_data",
          "data": {
            "text/plain": [
              "       x4 \n",
              "0.8840035 "
            ],
            "text/latex": "\\textbf{x4:} 0.884003507072271",
            "text/markdown": "**x4:** 0.884003507072271",
            "text/html": [
              "<strong>x4:</strong> 0.884003507072271"
            ]
          },
          "metadata": {
            "tags": []
          }
        }
      ]
    },
    {
      "cell_type": "markdown",
      "metadata": {
        "id": "bniYFwuox3m3"
      },
      "source": [
        "*Test hypotesis B5*"
      ]
    },
    {
      "cell_type": "code",
      "metadata": {
        "colab": {
          "base_uri": "https://localhost:8080/",
          "height": 136
        },
        "id": "l1hzBxJVxeOf",
        "outputId": "ffccf8d0-8788-474e-e1db-e8512d2b2888"
      },
      "source": [
        "N=14\n",
        "beduc<-coef(modelo)[\"x5\"]\n",
        "beduc\n",
        "# Desviación estándar del coeficiente\n",
        "mvc <- vcov(modelo)\n",
        "dsbeta1<-sqrt(mvc[2,2])\n",
        "dsbeta1\n",
        "# t calculado\n",
        "tc<-beduc/dsbeta1\n",
        "tc\n",
        "# T tabla\n",
        "glb <- N-length(coef(modelo))\n",
        "alpha<-0.05\n",
        "tt <- qt(1-alpha/2, glb)\n",
        " #Se rechaza la hipótesis nula si: abs(tc)>abs(tt)\n",
        "paste(\"Rechazamos H0?\", abs(tc)>abs(tt))\n",
        "tc\n",
        "tt\n",
        "p.valor <- 2*(1-pt(abs(tc), glb))\n",
        "p.valor ## VALOR PARA RECHAZAR O ACEPTAR LA HYPOTHESIS DE 5%\n"
      ],
      "execution_count": 91,
      "outputs": [
        {
          "output_type": "display_data",
          "data": {
            "text/plain": [
              "        x5 \n",
              "-0.3859092 "
            ],
            "text/latex": "\\textbf{x5:} -0.385909161127772",
            "text/markdown": "**x5:** -0.385909161127772",
            "text/html": [
              "<strong>x5:</strong> -0.385909161127772"
            ]
          },
          "metadata": {
            "tags": []
          }
        },
        {
          "output_type": "display_data",
          "data": {
            "text/plain": [
              "[1] 1.131229"
            ],
            "text/latex": "1.13122869631611",
            "text/markdown": "1.13122869631611",
            "text/html": [
              "1.13122869631611"
            ]
          },
          "metadata": {
            "tags": []
          }
        },
        {
          "output_type": "display_data",
          "data": {
            "text/plain": [
              "        x5 \n",
              "-0.3411416 "
            ],
            "text/latex": "\\textbf{x5:} -0.341141594431346",
            "text/markdown": "**x5:** -0.341141594431346",
            "text/html": [
              "<strong>x5:</strong> -0.341141594431346"
            ]
          },
          "metadata": {
            "tags": []
          }
        },
        {
          "output_type": "display_data",
          "data": {
            "text/plain": [
              "[1] \"Rechazamos H0? FALSE\""
            ],
            "text/latex": "'Rechazamos H0? FALSE'",
            "text/markdown": "'Rechazamos H0? FALSE'",
            "text/html": [
              "'Rechazamos H0? FALSE'"
            ]
          },
          "metadata": {
            "tags": []
          }
        },
        {
          "output_type": "display_data",
          "data": {
            "text/plain": [
              "        x5 \n",
              "-0.3411416 "
            ],
            "text/latex": "\\textbf{x5:} -0.341141594431346",
            "text/markdown": "**x5:** -0.341141594431346",
            "text/html": [
              "<strong>x5:</strong> -0.341141594431346"
            ]
          },
          "metadata": {
            "tags": []
          }
        },
        {
          "output_type": "display_data",
          "data": {
            "text/plain": [
              "[1] 2.306004"
            ],
            "text/latex": "2.30600413520417",
            "text/markdown": "2.30600413520417",
            "text/html": [
              "2.30600413520417"
            ]
          },
          "metadata": {
            "tags": []
          }
        },
        {
          "output_type": "display_data",
          "data": {
            "text/plain": [
              "       x5 \n",
              "0.7417838 "
            ],
            "text/latex": "\\textbf{x5:} 0.741783777710365",
            "text/markdown": "**x5:** 0.741783777710365",
            "text/html": [
              "<strong>x5:</strong> 0.741783777710365"
            ]
          },
          "metadata": {
            "tags": []
          }
        }
      ]
    },
    {
      "cell_type": "markdown",
      "metadata": {
        "id": "oWsix-R0w_SY"
      },
      "source": [
        ""
      ]
    },
    {
      "cell_type": "code",
      "metadata": {
        "colab": {
          "base_uri": "https://localhost:8080/",
          "height": 34
        },
        "id": "p43aYq9MaTmy",
        "outputId": "b7390752-897c-4f51-8969-1e9a1d176e2c"
      },
      "source": [
        "beduc"
      ],
      "execution_count": 81,
      "outputs": [
        {
          "output_type": "display_data",
          "data": {
            "text/plain": [
              "<NA> \n",
              "  NA "
            ],
            "text/latex": "\\textbf{NA:} <NA>",
            "text/markdown": "**NA:** &lt;NA&gt;",
            "text/html": [
              "<strong>NA:</strong> &lt;NA&gt;"
            ]
          },
          "metadata": {
            "tags": []
          }
        }
      ]
    },
    {
      "cell_type": "code",
      "metadata": {
        "id": "ctq-gWT6VMch"
      },
      "source": [
        "plot(fit)"
      ],
      "execution_count": null,
      "outputs": []
    },
    {
      "cell_type": "markdown",
      "metadata": {
        "id": "I5f4YoWOm4-F"
      },
      "source": [
        "El modelo de regresion lineal es capaz de explicar el 98.71% de la variabilidad observada. EL P-VALUE de 2.48e-07 es altamente significtivo por lo que se puede acpetar que el modelo no es al azar"
      ]
    },
    {
      "cell_type": "markdown",
      "metadata": {
        "id": "vJHUL1SBovoa"
      },
      "source": [
        "# SELECCIONAR EL MEJOR MODELO"
      ]
    },
    {
      "cell_type": "code",
      "metadata": {
        "colab": {
          "base_uri": "https://localhost:8080/",
          "height": 680
        },
        "id": "-1kIF1hTSdFH",
        "outputId": "149f16d9-9248-4023-84ff-2e5a08a59d0d"
      },
      "source": [
        "step(object = modelo, direction = \"both\", trace = 1)"
      ],
      "execution_count": 103,
      "outputs": [
        {
          "output_type": "stream",
          "text": [
            "Start:  AIC=31.98\n",
            "y ~ x1 + x2 + x3 + x4 + x5\n",
            "\n",
            "       Df Sum of Sq    RSS    AIC\n",
            "- x4    1    0.1922 58.516 30.023\n",
            "- x5    1    0.4687 58.792 30.089\n",
            "- x1    1    1.1523 59.476 30.251\n",
            "- x3    1    2.0618 60.385 30.464\n",
            "<none>              58.323 31.977\n",
            "- x2    1   10.8348 69.158 32.363\n",
            "\n",
            "Step:  AIC=30.02\n",
            "y ~ x1 + x2 + x3 + x5\n",
            "\n",
            "       Df Sum of Sq     RSS    AIC\n",
            "- x5    1      0.28   58.79 28.090\n",
            "<none>                58.52 30.023\n",
            "- x1    1     11.22   69.73 30.479\n",
            "+ x4    1      0.19   58.32 31.977\n",
            "- x2    1    274.60  333.12 52.372\n",
            "- x3    1   1791.78 1850.29 76.377\n",
            "\n",
            "Step:  AIC=28.09\n",
            "y ~ x1 + x2 + x3\n",
            "\n",
            "       Df Sum of Sq     RSS    AIC\n",
            "<none>                58.79 28.090\n",
            "- x1    1     10.95   69.74 28.480\n",
            "+ x5    1      0.28   58.52 30.023\n",
            "+ x4    1      0.00   58.79 30.089\n",
            "- x2    1    274.56  333.36 50.382\n",
            "- x3    1   1813.38 1872.17 74.541\n"
          ],
          "name": "stdout"
        },
        {
          "output_type": "display_data",
          "data": {
            "text/plain": [
              "\n",
              "Call:\n",
              "lm(formula = y ~ x1 + x2 + x3, data = mydata)\n",
              "\n",
              "Coefficients:\n",
              "(Intercept)           x1           x2           x3  \n",
              "    55.8768      -0.2637       1.4653       0.7336  \n"
            ]
          },
          "metadata": {
            "tags": []
          }
        }
      ]
    },
    {
      "cell_type": "markdown",
      "metadata": {
        "id": "aGzjDoOrpev2"
      },
      "source": [
        "Segun este analisis el mejor modelo es:"
      ]
    },
    {
      "cell_type": "code",
      "metadata": {
        "colab": {
          "base_uri": "https://localhost:8080/",
          "height": 357
        },
        "id": "JPKM4liCo1kC",
        "outputId": "4cdadeb3-e3f0-4f18-f2fe-de20d870a0d6"
      },
      "source": [
        "modelo <- (lm(formula = y ~ x1 + x2 + x3 \n",
        "              , data = mydata))\n",
        "summary(modelo)"
      ],
      "execution_count": 104,
      "outputs": [
        {
          "output_type": "display_data",
          "data": {
            "text/plain": [
              "\n",
              "Call:\n",
              "lm(formula = y ~ x1 + x2 + x3, data = mydata)\n",
              "\n",
              "Residuals:\n",
              "    Min      1Q  Median      3Q     Max \n",
              "-2.6827 -2.0225 -0.0239  1.7402  3.3238 \n",
              "\n",
              "Coefficients:\n",
              "            Estimate Std. Error t value Pr(>|t|)    \n",
              "(Intercept) 55.87675    3.97307  14.064 6.48e-08 ***\n",
              "x1          -0.26371    0.19328  -1.364    0.202    \n",
              "x2           1.46531    0.21442   6.834 4.55e-05 ***\n",
              "x3           0.73362    0.04177  17.562 7.62e-09 ***\n",
              "---\n",
              "Signif. codes:  0 ‘***’ 0.001 ‘**’ 0.01 ‘*’ 0.05 ‘.’ 0.1 ‘ ’ 1\n",
              "\n",
              "Residual standard error: 2.425 on 10 degrees of freedom\n",
              "Multiple R-squared:  0.987,\tAdjusted R-squared:  0.9831 \n",
              "F-statistic: 252.5 on 3 and 10 DF,  p-value: 1.011e-09\n"
            ]
          },
          "metadata": {
            "tags": []
          }
        }
      ]
    },
    {
      "cell_type": "code",
      "metadata": {
        "colab": {
          "base_uri": "https://localhost:8080/",
          "height": 340
        },
        "id": "9GFuqwst_5F8",
        "outputId": "a4477f17-e0e0-468e-c766-79ea92ebf2de"
      },
      "source": [
        "modelo2 <- (lm(formula = y ~ 0+x1 + x2 + x3 \n",
        "              , data = mydata))\n",
        "summary(modelo2)"
      ],
      "execution_count": 106,
      "outputs": [
        {
          "output_type": "display_data",
          "data": {
            "text/plain": [
              "\n",
              "Call:\n",
              "lm(formula = y ~ 0 + x1 + x2 + x3, data = mydata)\n",
              "\n",
              "Residuals:\n",
              "   Min     1Q Median     3Q    Max \n",
              "-8.334 -6.519 -1.044  4.513 22.247 \n",
              "\n",
              "Coefficients:\n",
              "   Estimate Std. Error t value Pr(>|t|)    \n",
              "x1   2.1127     0.4078   5.180 0.000304 ***\n",
              "x2   3.7329     0.6144   6.076 8.01e-05 ***\n",
              "x3   0.9403     0.1700   5.533 0.000177 ***\n",
              "---\n",
              "Signif. codes:  0 ‘***’ 0.001 ‘**’ 0.01 ‘*’ 0.05 ‘.’ 0.1 ‘ ’ 1\n",
              "\n",
              "Residual standard error: 10.54 on 11 degrees of freedom\n",
              "Multiple R-squared:  0.991,\tAdjusted R-squared:  0.9885 \n",
              "F-statistic:   402 on 3 and 11 DF,  p-value: 1.612e-11\n"
            ]
          },
          "metadata": {
            "tags": []
          }
        }
      ]
    },
    {
      "cell_type": "markdown",
      "metadata": {
        "id": "q5HaHiHxp1H2"
      },
      "source": [
        "De esta forma los intervalos de confianza para este modelo es:"
      ]
    },
    {
      "cell_type": "code",
      "metadata": {
        "colab": {
          "base_uri": "https://localhost:8080/",
          "height": 190
        },
        "id": "LJ2uuz5Wp5Dm",
        "outputId": "f7f0b6b3-471f-4396-f15a-73836a820d01"
      },
      "source": [
        "confint(lm(formula = y ~ x1 + x2 + x3\n",
        "            , data = mydata))"
      ],
      "execution_count": 105,
      "outputs": [
        {
          "output_type": "display_data",
          "data": {
            "text/plain": [
              "            2.5 %      97.5 %    \n",
              "(Intercept) 47.0241980 64.7293052\n",
              "x1          -0.6943546  0.1669332\n",
              "x2           0.9875460  1.9430789\n",
              "x3           0.6405471  0.8266983"
            ],
            "text/latex": "A matrix: 4 × 2 of type dbl\n\\begin{tabular}{r|ll}\n  & 2.5 \\% & 97.5 \\%\\\\\n\\hline\n\t(Intercept) & 47.0241980 & 64.7293052\\\\\n\tx1 & -0.6943546 &  0.1669332\\\\\n\tx2 &  0.9875460 &  1.9430789\\\\\n\tx3 &  0.6405471 &  0.8266983\\\\\n\\end{tabular}\n",
            "text/markdown": "\nA matrix: 4 × 2 of type dbl\n\n| <!--/--> | 2.5 % | 97.5 % |\n|---|---|---|\n| (Intercept) | 47.0241980 | 64.7293052 |\n| x1 | -0.6943546 |  0.1669332 |\n| x2 |  0.9875460 |  1.9430789 |\n| x3 |  0.6405471 |  0.8266983 |\n\n",
            "text/html": [
              "<table class=\"dataframe\">\n",
              "<caption>A matrix: 4 × 2 of type dbl</caption>\n",
              "<thead>\n",
              "\t<tr><th></th><th scope=col>2.5 %</th><th scope=col>97.5 %</th></tr>\n",
              "</thead>\n",
              "<tbody>\n",
              "\t<tr><th scope=row>(Intercept)</th><td>47.0241980</td><td>64.7293052</td></tr>\n",
              "\t<tr><th scope=row>x1</th><td>-0.6943546</td><td> 0.1669332</td></tr>\n",
              "\t<tr><th scope=row>x2</th><td> 0.9875460</td><td> 1.9430789</td></tr>\n",
              "\t<tr><th scope=row>x3</th><td> 0.6405471</td><td> 0.8266983</td></tr>\n",
              "</tbody>\n",
              "</table>\n"
            ]
          },
          "metadata": {
            "tags": []
          }
        }
      ]
    },
    {
      "cell_type": "markdown",
      "metadata": {
        "id": "tgDyixWRqk4Q"
      },
      "source": [
        "**Validacion de condiciones para la regresion multiple**"
      ]
    },
    {
      "cell_type": "code",
      "metadata": {
        "id": "yV6i7D3AquIm"
      },
      "source": [
        "library(ggplot2)\n",
        "library(gridExtra)\n",
        "plot1 <- ggplot(data = mydata, aes(x1, modelo$residuals)) +\n",
        "    geom_point() + geom_smooth(color = \"firebrick\") + geom_hline(yintercept = 0) +\n",
        "    theme_bw()\n",
        "plot2 <- ggplot(data = mydata, aes(x2, modelo$residuals)) +\n",
        "    geom_point() + geom_smooth(color = \"firebrick\") + geom_hline(yintercept = 0) +\n",
        "    theme_bw()\n",
        "plot3 <- ggplot(data = mydata, aes(x3, modelo$residuals)) +\n",
        "    geom_point() + geom_smooth(color = \"firebrick\") + geom_hline(yintercept = 0) +\n",
        "    theme_bw()\n",
        "plot4 <- ggplot(data = mydata, aes(x4, modelo$residuals)) +\n",
        "    geom_point() + geom_smooth(color = \"firebrick\") + geom_hline(yintercept = 0) +\n",
        "    theme_bw()\n",
        "grid.arrange(plot1, plot2, plot3, plot4)"
      ],
      "execution_count": null,
      "outputs": []
    },
    {
      "cell_type": "code",
      "metadata": {
        "id": "QiyXFYI2quWf"
      },
      "source": [
        ""
      ],
      "execution_count": null,
      "outputs": []
    },
    {
      "cell_type": "markdown",
      "metadata": {
        "id": "XI4nU4_fouWa"
      },
      "source": [
        ""
      ]
    },
    {
      "cell_type": "markdown",
      "metadata": {
        "id": "xr-CkD07SdSV"
      },
      "source": [
        "# HIPTOTESIS TESTING"
      ]
    },
    {
      "cell_type": "code",
      "metadata": {
        "id": "bh1rU-rpTg-K"
      },
      "source": [
        ""
      ],
      "execution_count": null,
      "outputs": []
    },
    {
      "cell_type": "markdown",
      "metadata": {
        "id": "18hRLcXcThIj"
      },
      "source": [
        "*INdividual regression*"
      ]
    },
    {
      "cell_type": "code",
      "metadata": {
        "id": "gIez6DvzVMhR"
      },
      "source": [
        "t<- -0.449/1.1312\n",
        "2*(1-pt(t, 96))"
      ],
      "execution_count": null,
      "outputs": []
    },
    {
      "cell_type": "markdown",
      "metadata": {
        "id": "-mz6mv_WYSly"
      },
      "source": [
        "*Testing with F *"
      ]
    },
    {
      "cell_type": "code",
      "metadata": {
        "id": "BLpCt0VKVMlo"
      },
      "source": [
        "F <- (12 - 5 -1)/5*0.3997/(1-0.9871)\n",
        "1 - pf(F, 5, 12)"
      ],
      "execution_count": null,
      "outputs": []
    },
    {
      "cell_type": "code",
      "metadata": {
        "id": "TdA6DZOpTx4o"
      },
      "source": [
        "library(GGally)\n",
        "ggpairs(datos, lower = list(continuous = \"smooth\"),\n",
        "        diag = list(continuous = \"barDiag\"), axisLabels = \"none\")"
      ],
      "execution_count": null,
      "outputs": []
    },
    {
      "cell_type": "code",
      "metadata": {
        "id": "NNYUkzUgTx7g"
      },
      "source": [
        ""
      ],
      "execution_count": null,
      "outputs": []
    },
    {
      "cell_type": "code",
      "metadata": {
        "id": "nUes1Yl2x8is"
      },
      "source": [
        ""
      ],
      "execution_count": null,
      "outputs": []
    },
    {
      "cell_type": "markdown",
      "metadata": {
        "id": "hhgMOnSUx9H2"
      },
      "source": [
        "# 3.- Suma de las 5 covariables"
      ]
    },
    {
      "cell_type": "code",
      "metadata": {
        "id": "_2K6dfoDyFVi"
      },
      "source": [
        "Datos <- fread(\"cemento.csv\",  # Import columns\n",
        "                      select = c(\"x1\", \"x2\",\"x3\", \"x4\",\"x5\"))\n",
        "\n",
        "Datos"
      ],
      "execution_count": null,
      "outputs": []
    },
    {
      "cell_type": "code",
      "metadata": {
        "id": "aEoT5QDIyFZB"
      },
      "source": [
        "Datos$NumPatatasTotal = rowSums (Datos)\n",
        "Datos$NumPatatasTotal\n"
      ],
      "execution_count": null,
      "outputs": []
    },
    {
      "cell_type": "markdown",
      "metadata": {
        "id": "c5TH8s4t1fKB"
      },
      "source": [
        "En funcion a la suma de variables se observa que x3 y x4 tienen o deberian tener un mayor impacto en el modelo, respecto a las demas variables del modelo."
      ]
    },
    {
      "cell_type": "code",
      "metadata": {
        "id": "X797oxuqyFdK"
      },
      "source": [
        "aux1=data.frame(Datos$NumPatatasTotal)\n",
        "\n"
      ],
      "execution_count": null,
      "outputs": []
    },
    {
      "cell_type": "markdown",
      "metadata": {
        "id": "jfQCgrw92CRj"
      },
      "source": [
        "# 4. Realizar un nuevo ajuste lineal usando las 5 variables independientes y eliminando la intercept. ¿C´omo se comparan estos resultados con los obtenidos anteriormente? ¿Cu´ales son\n",
        "significativamente distintos de 0?"
      ]
    },
    {
      "cell_type": "code",
      "metadata": {
        "id": "7XZ9rb-x2LmV",
        "colab": {
          "base_uri": "https://localhost:8080/",
          "height": 374
        },
        "outputId": "73997869-35bb-4616-8ec9-c9950d864446"
      },
      "source": [
        " modelo_noIct <- lm(y ~ 0+ x1 + x2 + x3+x4+x5, data=mydata)\n",
        " summary(modelo_noIct )"
      ],
      "execution_count": 107,
      "outputs": [
        {
          "output_type": "display_data",
          "data": {
            "text/plain": [
              "\n",
              "Call:\n",
              "lm(formula = y ~ 0 + x1 + x2 + x3 + x4 + x5, data = mydata)\n",
              "\n",
              "Residuals:\n",
              "    Min      1Q  Median      3Q     Max \n",
              "-3.1390 -1.9789  0.1514  1.5559  3.9401 \n",
              "\n",
              "Coefficients:\n",
              "   Estimate Std. Error t value Pr(>|t|)    \n",
              "x1  0.32652    0.17086   1.911   0.0883 .  \n",
              "x2  2.02517    0.20611   9.826 4.14e-06 ***\n",
              "x3  1.29718    0.05993  21.646 4.52e-09 ***\n",
              "x4  0.55768    0.05039  11.067 1.53e-06 ***\n",
              "x5  0.35444    1.05496   0.336   0.7446    \n",
              "---\n",
              "Signif. codes:  0 ‘***’ 0.001 ‘**’ 0.01 ‘*’ 0.05 ‘.’ 0.1 ‘ ’ 1\n",
              "\n",
              "Residual standard error: 2.621 on 9 degrees of freedom\n",
              "Multiple R-squared:  0.9995,\tAdjusted R-squared:  0.9993 \n",
              "F-statistic:  3933 on 5 and 9 DF,  p-value: 9.691e-15\n"
            ]
          },
          "metadata": {
            "tags": []
          }
        }
      ]
    },
    {
      "cell_type": "code",
      "metadata": {
        "id": "3mc2A14E_G3V"
      },
      "source": [
        "require(ggiraph)\n",
        "require(ggiraphExtra)\n",
        "require(plyr)"
      ],
      "execution_count": null,
      "outputs": []
    },
    {
      "cell_type": "code",
      "metadata": {
        "id": "ECQHZkmC8Niv"
      },
      "source": [
        "ggPredict(modelo_noIct,interactive = TRUE)\n"
      ],
      "execution_count": null,
      "outputs": []
    },
    {
      "cell_type": "markdown",
      "metadata": {
        "id": "kDe-nxmN8N6I"
      },
      "source": [
        "# 5. Plantear un nuevo modelo en el que intervengan aquellas variables que contribuyen significativamente y estimar los par´ametros por m´ınimos cuadrados. ¿Qu´e modelo eligir´ıa finalmente?"
      ]
    },
    {
      "cell_type": "code",
      "metadata": {
        "id": "eIrwOZrx2Lzv"
      },
      "source": [
        ""
      ],
      "execution_count": null,
      "outputs": []
    }
  ]
}